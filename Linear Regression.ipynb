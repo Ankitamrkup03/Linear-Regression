{
 "cells": [
  {
   "cell_type": "code",
   "execution_count": 1,
   "metadata": {},
   "outputs": [],
   "source": [
    "import pandas as pb\n",
    "import numpy as np\n",
    "import matplotlib.pyplot as plt\n",
    "%matplotlib inline\n",
    "from matplotlib.pyplot import figure\n",
    "from sklearn.linear_model import LinearRegression\n",
    "from sklearn.model_selection import train_test_split"
   ]
  },
  {
   "cell_type": "code",
   "execution_count": 2,
   "metadata": {},
   "outputs": [
    {
     "data": {
      "text/html": [
       "<div>\n",
       "<style scoped>\n",
       "    .dataframe tbody tr th:only-of-type {\n",
       "        vertical-align: middle;\n",
       "    }\n",
       "\n",
       "    .dataframe tbody tr th {\n",
       "        vertical-align: top;\n",
       "    }\n",
       "\n",
       "    .dataframe thead th {\n",
       "        text-align: right;\n",
       "    }\n",
       "</style>\n",
       "<table border=\"1\" class=\"dataframe\">\n",
       "  <thead>\n",
       "    <tr style=\"text-align: right;\">\n",
       "      <th></th>\n",
       "      <th>Date</th>\n",
       "      <th>State</th>\n",
       "      <th>Confirmed</th>\n",
       "      <th>Recovered</th>\n",
       "      <th>Deceased</th>\n",
       "      <th>Other</th>\n",
       "      <th>Tested</th>\n",
       "    </tr>\n",
       "  </thead>\n",
       "  <tbody>\n",
       "    <tr>\n",
       "      <td>0</td>\n",
       "      <td>1/30/2020</td>\n",
       "      <td>Kerala</td>\n",
       "      <td>1</td>\n",
       "      <td>0</td>\n",
       "      <td>0</td>\n",
       "      <td>0</td>\n",
       "      <td>NaN</td>\n",
       "    </tr>\n",
       "    <tr>\n",
       "      <td>1</td>\n",
       "      <td>2/2/2020</td>\n",
       "      <td>Kerala</td>\n",
       "      <td>2</td>\n",
       "      <td>0</td>\n",
       "      <td>0</td>\n",
       "      <td>0</td>\n",
       "      <td>NaN</td>\n",
       "    </tr>\n",
       "    <tr>\n",
       "      <td>2</td>\n",
       "      <td>2/3/2020</td>\n",
       "      <td>Kerala</td>\n",
       "      <td>3</td>\n",
       "      <td>0</td>\n",
       "      <td>0</td>\n",
       "      <td>0</td>\n",
       "      <td>NaN</td>\n",
       "    </tr>\n",
       "    <tr>\n",
       "      <td>3</td>\n",
       "      <td>2/14/2020</td>\n",
       "      <td>Kerala</td>\n",
       "      <td>3</td>\n",
       "      <td>3</td>\n",
       "      <td>0</td>\n",
       "      <td>0</td>\n",
       "      <td>NaN</td>\n",
       "    </tr>\n",
       "    <tr>\n",
       "      <td>4</td>\n",
       "      <td>3/2/2020</td>\n",
       "      <td>Delhi</td>\n",
       "      <td>1</td>\n",
       "      <td>0</td>\n",
       "      <td>0</td>\n",
       "      <td>0</td>\n",
       "      <td>NaN</td>\n",
       "    </tr>\n",
       "    <tr>\n",
       "      <td>...</td>\n",
       "      <td>...</td>\n",
       "      <td>...</td>\n",
       "      <td>...</td>\n",
       "      <td>...</td>\n",
       "      <td>...</td>\n",
       "      <td>...</td>\n",
       "      <td>...</td>\n",
       "    </tr>\n",
       "    <tr>\n",
       "      <td>7891</td>\n",
       "      <td>10/28/2020</td>\n",
       "      <td>Tamil Nadu</td>\n",
       "      <td>714235</td>\n",
       "      <td>675518</td>\n",
       "      <td>10983</td>\n",
       "      <td>0</td>\n",
       "      <td>9732863.0</td>\n",
       "    </tr>\n",
       "    <tr>\n",
       "      <td>7892</td>\n",
       "      <td>10/28/2020</td>\n",
       "      <td>Tripura</td>\n",
       "      <td>30290</td>\n",
       "      <td>28130</td>\n",
       "      <td>341</td>\n",
       "      <td>23</td>\n",
       "      <td>452230.0</td>\n",
       "    </tr>\n",
       "    <tr>\n",
       "      <td>7893</td>\n",
       "      <td>10/28/2020</td>\n",
       "      <td>Uttar Pradesh</td>\n",
       "      <td>474054</td>\n",
       "      <td>440847</td>\n",
       "      <td>6940</td>\n",
       "      <td>0</td>\n",
       "      <td>14421272.0</td>\n",
       "    </tr>\n",
       "    <tr>\n",
       "      <td>7894</td>\n",
       "      <td>10/28/2020</td>\n",
       "      <td>Uttarakhand</td>\n",
       "      <td>60957</td>\n",
       "      <td>55610</td>\n",
       "      <td>1007</td>\n",
       "      <td>475</td>\n",
       "      <td>1021965.0</td>\n",
       "    </tr>\n",
       "    <tr>\n",
       "      <td>7895</td>\n",
       "      <td>10/28/2020</td>\n",
       "      <td>West Bengal</td>\n",
       "      <td>357779</td>\n",
       "      <td>314003</td>\n",
       "      <td>6604</td>\n",
       "      <td>0</td>\n",
       "      <td>4382678.0</td>\n",
       "    </tr>\n",
       "  </tbody>\n",
       "</table>\n",
       "<p>7896 rows × 7 columns</p>\n",
       "</div>"
      ],
      "text/plain": [
       "            Date          State  Confirmed  Recovered  Deceased  Other  \\\n",
       "0      1/30/2020         Kerala          1          0         0      0   \n",
       "1       2/2/2020         Kerala          2          0         0      0   \n",
       "2       2/3/2020         Kerala          3          0         0      0   \n",
       "3      2/14/2020         Kerala          3          3         0      0   \n",
       "4       3/2/2020          Delhi          1          0         0      0   \n",
       "...          ...            ...        ...        ...       ...    ...   \n",
       "7891  10/28/2020     Tamil Nadu     714235     675518     10983      0   \n",
       "7892  10/28/2020        Tripura      30290      28130       341     23   \n",
       "7893  10/28/2020  Uttar Pradesh     474054     440847      6940      0   \n",
       "7894  10/28/2020    Uttarakhand      60957      55610      1007    475   \n",
       "7895  10/28/2020    West Bengal     357779     314003      6604      0   \n",
       "\n",
       "          Tested  \n",
       "0            NaN  \n",
       "1            NaN  \n",
       "2            NaN  \n",
       "3            NaN  \n",
       "4            NaN  \n",
       "...          ...  \n",
       "7891   9732863.0  \n",
       "7892    452230.0  \n",
       "7893  14421272.0  \n",
       "7894   1021965.0  \n",
       "7895   4382678.0  \n",
       "\n",
       "[7896 rows x 7 columns]"
      ]
     },
     "execution_count": 2,
     "metadata": {},
     "output_type": "execute_result"
    }
   ],
   "source": [
    "df=pb.read_csv(\"State.csv\")\n",
    "df"
   ]
  },
  {
   "cell_type": "code",
   "execution_count": 3,
   "metadata": {},
   "outputs": [
    {
     "data": {
      "text/html": [
       "<div>\n",
       "<style scoped>\n",
       "    .dataframe tbody tr th:only-of-type {\n",
       "        vertical-align: middle;\n",
       "    }\n",
       "\n",
       "    .dataframe tbody tr th {\n",
       "        vertical-align: top;\n",
       "    }\n",
       "\n",
       "    .dataframe thead th {\n",
       "        text-align: right;\n",
       "    }\n",
       "</style>\n",
       "<table border=\"1\" class=\"dataframe\">\n",
       "  <thead>\n",
       "    <tr style=\"text-align: right;\">\n",
       "      <th></th>\n",
       "      <th>Date</th>\n",
       "      <th>State</th>\n",
       "      <th>Confirmed</th>\n",
       "      <th>Recovered</th>\n",
       "      <th>Deceased</th>\n",
       "      <th>Other</th>\n",
       "      <th>Tested</th>\n",
       "    </tr>\n",
       "  </thead>\n",
       "  <tbody>\n",
       "    <tr>\n",
       "      <td>0</td>\n",
       "      <td>1/30/2020</td>\n",
       "      <td>Kerala</td>\n",
       "      <td>1</td>\n",
       "      <td>0</td>\n",
       "      <td>0</td>\n",
       "      <td>0</td>\n",
       "      <td>NaN</td>\n",
       "    </tr>\n",
       "    <tr>\n",
       "      <td>1</td>\n",
       "      <td>2/2/2020</td>\n",
       "      <td>Kerala</td>\n",
       "      <td>2</td>\n",
       "      <td>0</td>\n",
       "      <td>0</td>\n",
       "      <td>0</td>\n",
       "      <td>NaN</td>\n",
       "    </tr>\n",
       "    <tr>\n",
       "      <td>2</td>\n",
       "      <td>2/3/2020</td>\n",
       "      <td>Kerala</td>\n",
       "      <td>3</td>\n",
       "      <td>0</td>\n",
       "      <td>0</td>\n",
       "      <td>0</td>\n",
       "      <td>NaN</td>\n",
       "    </tr>\n",
       "    <tr>\n",
       "      <td>3</td>\n",
       "      <td>2/14/2020</td>\n",
       "      <td>Kerala</td>\n",
       "      <td>3</td>\n",
       "      <td>3</td>\n",
       "      <td>0</td>\n",
       "      <td>0</td>\n",
       "      <td>NaN</td>\n",
       "    </tr>\n",
       "    <tr>\n",
       "      <td>4</td>\n",
       "      <td>3/2/2020</td>\n",
       "      <td>Delhi</td>\n",
       "      <td>1</td>\n",
       "      <td>0</td>\n",
       "      <td>0</td>\n",
       "      <td>0</td>\n",
       "      <td>NaN</td>\n",
       "    </tr>\n",
       "  </tbody>\n",
       "</table>\n",
       "</div>"
      ],
      "text/plain": [
       "        Date   State  Confirmed  Recovered  Deceased  Other  Tested\n",
       "0  1/30/2020  Kerala          1          0         0      0     NaN\n",
       "1   2/2/2020  Kerala          2          0         0      0     NaN\n",
       "2   2/3/2020  Kerala          3          0         0      0     NaN\n",
       "3  2/14/2020  Kerala          3          3         0      0     NaN\n",
       "4   3/2/2020   Delhi          1          0         0      0     NaN"
      ]
     },
     "execution_count": 3,
     "metadata": {},
     "output_type": "execute_result"
    }
   ],
   "source": [
    "df.head() #checking the first five rows"
   ]
  },
  {
   "cell_type": "code",
   "execution_count": 4,
   "metadata": {},
   "outputs": [
    {
     "data": {
      "text/html": [
       "<div>\n",
       "<style scoped>\n",
       "    .dataframe tbody tr th:only-of-type {\n",
       "        vertical-align: middle;\n",
       "    }\n",
       "\n",
       "    .dataframe tbody tr th {\n",
       "        vertical-align: top;\n",
       "    }\n",
       "\n",
       "    .dataframe thead th {\n",
       "        text-align: right;\n",
       "    }\n",
       "</style>\n",
       "<table border=\"1\" class=\"dataframe\">\n",
       "  <thead>\n",
       "    <tr style=\"text-align: right;\">\n",
       "      <th></th>\n",
       "      <th>Date</th>\n",
       "      <th>State</th>\n",
       "      <th>Confirmed</th>\n",
       "      <th>Recovered</th>\n",
       "      <th>Deceased</th>\n",
       "      <th>Other</th>\n",
       "      <th>Tested</th>\n",
       "    </tr>\n",
       "  </thead>\n",
       "  <tbody>\n",
       "    <tr>\n",
       "      <td>7891</td>\n",
       "      <td>10/28/2020</td>\n",
       "      <td>Tamil Nadu</td>\n",
       "      <td>714235</td>\n",
       "      <td>675518</td>\n",
       "      <td>10983</td>\n",
       "      <td>0</td>\n",
       "      <td>9732863.0</td>\n",
       "    </tr>\n",
       "    <tr>\n",
       "      <td>7892</td>\n",
       "      <td>10/28/2020</td>\n",
       "      <td>Tripura</td>\n",
       "      <td>30290</td>\n",
       "      <td>28130</td>\n",
       "      <td>341</td>\n",
       "      <td>23</td>\n",
       "      <td>452230.0</td>\n",
       "    </tr>\n",
       "    <tr>\n",
       "      <td>7893</td>\n",
       "      <td>10/28/2020</td>\n",
       "      <td>Uttar Pradesh</td>\n",
       "      <td>474054</td>\n",
       "      <td>440847</td>\n",
       "      <td>6940</td>\n",
       "      <td>0</td>\n",
       "      <td>14421272.0</td>\n",
       "    </tr>\n",
       "    <tr>\n",
       "      <td>7894</td>\n",
       "      <td>10/28/2020</td>\n",
       "      <td>Uttarakhand</td>\n",
       "      <td>60957</td>\n",
       "      <td>55610</td>\n",
       "      <td>1007</td>\n",
       "      <td>475</td>\n",
       "      <td>1021965.0</td>\n",
       "    </tr>\n",
       "    <tr>\n",
       "      <td>7895</td>\n",
       "      <td>10/28/2020</td>\n",
       "      <td>West Bengal</td>\n",
       "      <td>357779</td>\n",
       "      <td>314003</td>\n",
       "      <td>6604</td>\n",
       "      <td>0</td>\n",
       "      <td>4382678.0</td>\n",
       "    </tr>\n",
       "  </tbody>\n",
       "</table>\n",
       "</div>"
      ],
      "text/plain": [
       "            Date          State  Confirmed  Recovered  Deceased  Other  \\\n",
       "7891  10/28/2020     Tamil Nadu     714235     675518     10983      0   \n",
       "7892  10/28/2020        Tripura      30290      28130       341     23   \n",
       "7893  10/28/2020  Uttar Pradesh     474054     440847      6940      0   \n",
       "7894  10/28/2020    Uttarakhand      60957      55610      1007    475   \n",
       "7895  10/28/2020    West Bengal     357779     314003      6604      0   \n",
       "\n",
       "          Tested  \n",
       "7891   9732863.0  \n",
       "7892    452230.0  \n",
       "7893  14421272.0  \n",
       "7894   1021965.0  \n",
       "7895   4382678.0  "
      ]
     },
     "execution_count": 4,
     "metadata": {},
     "output_type": "execute_result"
    }
   ],
   "source": [
    "df.tail() #checking last five rows"
   ]
  },
  {
   "cell_type": "code",
   "execution_count": 5,
   "metadata": {},
   "outputs": [
    {
     "name": "stdout",
     "output_type": "stream",
     "text": [
      "<class 'pandas.core.frame.DataFrame'>\n",
      "RangeIndex: 7896 entries, 0 to 7895\n",
      "Data columns (total 7 columns):\n",
      "Date         7896 non-null object\n",
      "State        7896 non-null object\n",
      "Confirmed    7896 non-null int64\n",
      "Recovered    7896 non-null int64\n",
      "Deceased     7896 non-null int64\n",
      "Other        7896 non-null int64\n",
      "Tested       7161 non-null float64\n",
      "dtypes: float64(1), int64(4), object(2)\n",
      "memory usage: 431.9+ KB\n"
     ]
    }
   ],
   "source": [
    "df.info() # printing the summary of the dataframe"
   ]
  },
  {
   "cell_type": "code",
   "execution_count": 6,
   "metadata": {},
   "outputs": [
    {
     "data": {
      "text/plain": [
       "Date           0\n",
       "State          0\n",
       "Confirmed      0\n",
       "Recovered      0\n",
       "Deceased       0\n",
       "Other          0\n",
       "Tested       735\n",
       "dtype: int64"
      ]
     },
     "execution_count": 6,
     "metadata": {},
     "output_type": "execute_result"
    }
   ],
   "source": [
    "df.isna().sum() # finding the count of missing values from different columns"
   ]
  },
  {
   "cell_type": "code",
   "execution_count": 7,
   "metadata": {},
   "outputs": [
    {
     "data": {
      "text/html": [
       "<div>\n",
       "<style scoped>\n",
       "    .dataframe tbody tr th:only-of-type {\n",
       "        vertical-align: middle;\n",
       "    }\n",
       "\n",
       "    .dataframe tbody tr th {\n",
       "        vertical-align: top;\n",
       "    }\n",
       "\n",
       "    .dataframe thead th {\n",
       "        text-align: right;\n",
       "    }\n",
       "</style>\n",
       "<table border=\"1\" class=\"dataframe\">\n",
       "  <thead>\n",
       "    <tr style=\"text-align: right;\">\n",
       "      <th></th>\n",
       "      <th>Date</th>\n",
       "      <th>State</th>\n",
       "      <th>Confirmed</th>\n",
       "      <th>Recovered</th>\n",
       "      <th>Deceased</th>\n",
       "      <th>Other</th>\n",
       "      <th>Tested</th>\n",
       "      <th>date_num</th>\n",
       "    </tr>\n",
       "  </thead>\n",
       "  <tbody>\n",
       "    <tr>\n",
       "      <td>0</td>\n",
       "      <td>1/30/2020</td>\n",
       "      <td>Kerala</td>\n",
       "      <td>1</td>\n",
       "      <td>0</td>\n",
       "      <td>0</td>\n",
       "      <td>0</td>\n",
       "      <td>NaN</td>\n",
       "      <td>0</td>\n",
       "    </tr>\n",
       "    <tr>\n",
       "      <td>1</td>\n",
       "      <td>2/2/2020</td>\n",
       "      <td>Kerala</td>\n",
       "      <td>2</td>\n",
       "      <td>0</td>\n",
       "      <td>0</td>\n",
       "      <td>0</td>\n",
       "      <td>NaN</td>\n",
       "      <td>1</td>\n",
       "    </tr>\n",
       "    <tr>\n",
       "      <td>2</td>\n",
       "      <td>2/3/2020</td>\n",
       "      <td>Kerala</td>\n",
       "      <td>3</td>\n",
       "      <td>0</td>\n",
       "      <td>0</td>\n",
       "      <td>0</td>\n",
       "      <td>NaN</td>\n",
       "      <td>2</td>\n",
       "    </tr>\n",
       "    <tr>\n",
       "      <td>3</td>\n",
       "      <td>2/14/2020</td>\n",
       "      <td>Kerala</td>\n",
       "      <td>3</td>\n",
       "      <td>3</td>\n",
       "      <td>0</td>\n",
       "      <td>0</td>\n",
       "      <td>NaN</td>\n",
       "      <td>3</td>\n",
       "    </tr>\n",
       "    <tr>\n",
       "      <td>4</td>\n",
       "      <td>3/2/2020</td>\n",
       "      <td>Delhi</td>\n",
       "      <td>1</td>\n",
       "      <td>0</td>\n",
       "      <td>0</td>\n",
       "      <td>0</td>\n",
       "      <td>NaN</td>\n",
       "      <td>4</td>\n",
       "    </tr>\n",
       "    <tr>\n",
       "      <td>...</td>\n",
       "      <td>...</td>\n",
       "      <td>...</td>\n",
       "      <td>...</td>\n",
       "      <td>...</td>\n",
       "      <td>...</td>\n",
       "      <td>...</td>\n",
       "      <td>...</td>\n",
       "      <td>...</td>\n",
       "    </tr>\n",
       "    <tr>\n",
       "      <td>7891</td>\n",
       "      <td>10/28/2020</td>\n",
       "      <td>Tamil Nadu</td>\n",
       "      <td>714235</td>\n",
       "      <td>675518</td>\n",
       "      <td>10983</td>\n",
       "      <td>0</td>\n",
       "      <td>9732863.0</td>\n",
       "      <td>244</td>\n",
       "    </tr>\n",
       "    <tr>\n",
       "      <td>7892</td>\n",
       "      <td>10/28/2020</td>\n",
       "      <td>Tripura</td>\n",
       "      <td>30290</td>\n",
       "      <td>28130</td>\n",
       "      <td>341</td>\n",
       "      <td>23</td>\n",
       "      <td>452230.0</td>\n",
       "      <td>244</td>\n",
       "    </tr>\n",
       "    <tr>\n",
       "      <td>7893</td>\n",
       "      <td>10/28/2020</td>\n",
       "      <td>Uttar Pradesh</td>\n",
       "      <td>474054</td>\n",
       "      <td>440847</td>\n",
       "      <td>6940</td>\n",
       "      <td>0</td>\n",
       "      <td>14421272.0</td>\n",
       "      <td>244</td>\n",
       "    </tr>\n",
       "    <tr>\n",
       "      <td>7894</td>\n",
       "      <td>10/28/2020</td>\n",
       "      <td>Uttarakhand</td>\n",
       "      <td>60957</td>\n",
       "      <td>55610</td>\n",
       "      <td>1007</td>\n",
       "      <td>475</td>\n",
       "      <td>1021965.0</td>\n",
       "      <td>244</td>\n",
       "    </tr>\n",
       "    <tr>\n",
       "      <td>7895</td>\n",
       "      <td>10/28/2020</td>\n",
       "      <td>West Bengal</td>\n",
       "      <td>357779</td>\n",
       "      <td>314003</td>\n",
       "      <td>6604</td>\n",
       "      <td>0</td>\n",
       "      <td>4382678.0</td>\n",
       "      <td>244</td>\n",
       "    </tr>\n",
       "  </tbody>\n",
       "</table>\n",
       "<p>7896 rows × 8 columns</p>\n",
       "</div>"
      ],
      "text/plain": [
       "            Date          State  Confirmed  Recovered  Deceased  Other  \\\n",
       "0      1/30/2020         Kerala          1          0         0      0   \n",
       "1       2/2/2020         Kerala          2          0         0      0   \n",
       "2       2/3/2020         Kerala          3          0         0      0   \n",
       "3      2/14/2020         Kerala          3          3         0      0   \n",
       "4       3/2/2020          Delhi          1          0         0      0   \n",
       "...          ...            ...        ...        ...       ...    ...   \n",
       "7891  10/28/2020     Tamil Nadu     714235     675518     10983      0   \n",
       "7892  10/28/2020        Tripura      30290      28130       341     23   \n",
       "7893  10/28/2020  Uttar Pradesh     474054     440847      6940      0   \n",
       "7894  10/28/2020    Uttarakhand      60957      55610      1007    475   \n",
       "7895  10/28/2020    West Bengal     357779     314003      6604      0   \n",
       "\n",
       "          Tested  date_num  \n",
       "0            NaN         0  \n",
       "1            NaN         1  \n",
       "2            NaN         2  \n",
       "3            NaN         3  \n",
       "4            NaN         4  \n",
       "...          ...       ...  \n",
       "7891   9732863.0       244  \n",
       "7892    452230.0       244  \n",
       "7893  14421272.0       244  \n",
       "7894   1021965.0       244  \n",
       "7895   4382678.0       244  \n",
       "\n",
       "[7896 rows x 8 columns]"
      ]
     },
     "execution_count": 7,
     "metadata": {},
     "output_type": "execute_result"
    }
   ],
   "source": [
    "df['date_num']=pb.factorize(df.Date)[0]\n",
    "df"
   ]
  },
  {
   "cell_type": "code",
   "execution_count": 8,
   "metadata": {},
   "outputs": [
    {
     "data": {
      "text/plain": [
       "array(['1/30/2020', '2/2/2020', '2/3/2020', ..., '10/28/2020',\n",
       "       '10/28/2020', '10/28/2020'], dtype=object)"
      ]
     },
     "execution_count": 8,
     "metadata": {},
     "output_type": "execute_result"
    }
   ],
   "source": [
    "df.Date.values"
   ]
  },
  {
   "cell_type": "code",
   "execution_count": 9,
   "metadata": {},
   "outputs": [
    {
     "data": {
      "text/plain": [
       "6/8/2020     36\n",
       "7/4/2020     36\n",
       "6/3/2020     36\n",
       "6/21/2020    36\n",
       "5/28/2020    36\n",
       "             ..\n",
       "3/2/2020      3\n",
       "2/2/2020      1\n",
       "2/3/2020      1\n",
       "2/14/2020     1\n",
       "1/30/2020     1\n",
       "Name: Date, Length: 245, dtype: int64"
      ]
     },
     "execution_count": 9,
     "metadata": {},
     "output_type": "execute_result"
    }
   ],
   "source": [
    "df.Date.value_counts()"
   ]
  },
  {
   "cell_type": "code",
   "execution_count": 10,
   "metadata": {},
   "outputs": [
    {
     "data": {
      "text/plain": [
       "119    36\n",
       "89     36\n",
       "107    36\n",
       "103    36\n",
       "99     36\n",
       "       ..\n",
       "4       3\n",
       "2       1\n",
       "3       1\n",
       "1       1\n",
       "0       1\n",
       "Name: date_num, Length: 245, dtype: int64"
      ]
     },
     "execution_count": 10,
     "metadata": {},
     "output_type": "execute_result"
    }
   ],
   "source": [
    "df.date_num.value_counts()"
   ]
  },
  {
   "cell_type": "code",
   "execution_count": 11,
   "metadata": {},
   "outputs": [
    {
     "data": {
      "text/plain": [
       "Date          object\n",
       "State         object\n",
       "Confirmed      int64\n",
       "Recovered      int64\n",
       "Deceased       int64\n",
       "Other          int64\n",
       "Tested       float64\n",
       "date_num       int64\n",
       "dtype: object"
      ]
     },
     "execution_count": 11,
     "metadata": {},
     "output_type": "execute_result"
    }
   ],
   "source": [
    "df.dtypes"
   ]
  },
  {
   "cell_type": "code",
   "execution_count": 12,
   "metadata": {},
   "outputs": [
    {
     "data": {
      "text/html": [
       "<div>\n",
       "<style scoped>\n",
       "    .dataframe tbody tr th:only-of-type {\n",
       "        vertical-align: middle;\n",
       "    }\n",
       "\n",
       "    .dataframe tbody tr th {\n",
       "        vertical-align: top;\n",
       "    }\n",
       "\n",
       "    .dataframe thead th {\n",
       "        text-align: right;\n",
       "    }\n",
       "</style>\n",
       "<table border=\"1\" class=\"dataframe\">\n",
       "  <thead>\n",
       "    <tr style=\"text-align: right;\">\n",
       "      <th></th>\n",
       "      <th>Date</th>\n",
       "      <th>State</th>\n",
       "      <th>Confirmed</th>\n",
       "      <th>Recovered</th>\n",
       "      <th>Deceased</th>\n",
       "      <th>Other</th>\n",
       "      <th>Tested</th>\n",
       "      <th>date_num</th>\n",
       "      <th>state_num</th>\n",
       "    </tr>\n",
       "  </thead>\n",
       "  <tbody>\n",
       "    <tr>\n",
       "      <td>0</td>\n",
       "      <td>1/30/2020</td>\n",
       "      <td>Kerala</td>\n",
       "      <td>1</td>\n",
       "      <td>0</td>\n",
       "      <td>0</td>\n",
       "      <td>0</td>\n",
       "      <td>NaN</td>\n",
       "      <td>0</td>\n",
       "      <td>0</td>\n",
       "    </tr>\n",
       "    <tr>\n",
       "      <td>1</td>\n",
       "      <td>2/2/2020</td>\n",
       "      <td>Kerala</td>\n",
       "      <td>2</td>\n",
       "      <td>0</td>\n",
       "      <td>0</td>\n",
       "      <td>0</td>\n",
       "      <td>NaN</td>\n",
       "      <td>1</td>\n",
       "      <td>0</td>\n",
       "    </tr>\n",
       "    <tr>\n",
       "      <td>2</td>\n",
       "      <td>2/3/2020</td>\n",
       "      <td>Kerala</td>\n",
       "      <td>3</td>\n",
       "      <td>0</td>\n",
       "      <td>0</td>\n",
       "      <td>0</td>\n",
       "      <td>NaN</td>\n",
       "      <td>2</td>\n",
       "      <td>0</td>\n",
       "    </tr>\n",
       "    <tr>\n",
       "      <td>3</td>\n",
       "      <td>2/14/2020</td>\n",
       "      <td>Kerala</td>\n",
       "      <td>3</td>\n",
       "      <td>3</td>\n",
       "      <td>0</td>\n",
       "      <td>0</td>\n",
       "      <td>NaN</td>\n",
       "      <td>3</td>\n",
       "      <td>0</td>\n",
       "    </tr>\n",
       "    <tr>\n",
       "      <td>4</td>\n",
       "      <td>3/2/2020</td>\n",
       "      <td>Delhi</td>\n",
       "      <td>1</td>\n",
       "      <td>0</td>\n",
       "      <td>0</td>\n",
       "      <td>0</td>\n",
       "      <td>NaN</td>\n",
       "      <td>4</td>\n",
       "      <td>1</td>\n",
       "    </tr>\n",
       "    <tr>\n",
       "      <td>...</td>\n",
       "      <td>...</td>\n",
       "      <td>...</td>\n",
       "      <td>...</td>\n",
       "      <td>...</td>\n",
       "      <td>...</td>\n",
       "      <td>...</td>\n",
       "      <td>...</td>\n",
       "      <td>...</td>\n",
       "      <td>...</td>\n",
       "    </tr>\n",
       "    <tr>\n",
       "      <td>7891</td>\n",
       "      <td>10/28/2020</td>\n",
       "      <td>Tamil Nadu</td>\n",
       "      <td>714235</td>\n",
       "      <td>675518</td>\n",
       "      <td>10983</td>\n",
       "      <td>0</td>\n",
       "      <td>9732863.0</td>\n",
       "      <td>244</td>\n",
       "      <td>7</td>\n",
       "    </tr>\n",
       "    <tr>\n",
       "      <td>7892</td>\n",
       "      <td>10/28/2020</td>\n",
       "      <td>Tripura</td>\n",
       "      <td>30290</td>\n",
       "      <td>28130</td>\n",
       "      <td>341</td>\n",
       "      <td>23</td>\n",
       "      <td>452230.0</td>\n",
       "      <td>244</td>\n",
       "      <td>31</td>\n",
       "    </tr>\n",
       "    <tr>\n",
       "      <td>7893</td>\n",
       "      <td>10/28/2020</td>\n",
       "      <td>Uttar Pradesh</td>\n",
       "      <td>474054</td>\n",
       "      <td>440847</td>\n",
       "      <td>6940</td>\n",
       "      <td>0</td>\n",
       "      <td>14421272.0</td>\n",
       "      <td>244</td>\n",
       "      <td>5</td>\n",
       "    </tr>\n",
       "    <tr>\n",
       "      <td>7894</td>\n",
       "      <td>10/28/2020</td>\n",
       "      <td>Uttarakhand</td>\n",
       "      <td>60957</td>\n",
       "      <td>55610</td>\n",
       "      <td>1007</td>\n",
       "      <td>475</td>\n",
       "      <td>1021965.0</td>\n",
       "      <td>244</td>\n",
       "      <td>14</td>\n",
       "    </tr>\n",
       "    <tr>\n",
       "      <td>7895</td>\n",
       "      <td>10/28/2020</td>\n",
       "      <td>West Bengal</td>\n",
       "      <td>357779</td>\n",
       "      <td>314003</td>\n",
       "      <td>6604</td>\n",
       "      <td>0</td>\n",
       "      <td>4382678.0</td>\n",
       "      <td>244</td>\n",
       "      <td>17</td>\n",
       "    </tr>\n",
       "  </tbody>\n",
       "</table>\n",
       "<p>7896 rows × 9 columns</p>\n",
       "</div>"
      ],
      "text/plain": [
       "            Date          State  Confirmed  Recovered  Deceased  Other  \\\n",
       "0      1/30/2020         Kerala          1          0         0      0   \n",
       "1       2/2/2020         Kerala          2          0         0      0   \n",
       "2       2/3/2020         Kerala          3          0         0      0   \n",
       "3      2/14/2020         Kerala          3          3         0      0   \n",
       "4       3/2/2020          Delhi          1          0         0      0   \n",
       "...          ...            ...        ...        ...       ...    ...   \n",
       "7891  10/28/2020     Tamil Nadu     714235     675518     10983      0   \n",
       "7892  10/28/2020        Tripura      30290      28130       341     23   \n",
       "7893  10/28/2020  Uttar Pradesh     474054     440847      6940      0   \n",
       "7894  10/28/2020    Uttarakhand      60957      55610      1007    475   \n",
       "7895  10/28/2020    West Bengal     357779     314003      6604      0   \n",
       "\n",
       "          Tested  date_num  state_num  \n",
       "0            NaN         0          0  \n",
       "1            NaN         1          0  \n",
       "2            NaN         2          0  \n",
       "3            NaN         3          0  \n",
       "4            NaN         4          1  \n",
       "...          ...       ...        ...  \n",
       "7891   9732863.0       244          7  \n",
       "7892    452230.0       244         31  \n",
       "7893  14421272.0       244          5  \n",
       "7894   1021965.0       244         14  \n",
       "7895   4382678.0       244         17  \n",
       "\n",
       "[7896 rows x 9 columns]"
      ]
     },
     "execution_count": 12,
     "metadata": {},
     "output_type": "execute_result"
    }
   ],
   "source": [
    "df['state_num']=pb.factorize(df.State)[0]\n",
    "df"
   ]
  },
  {
   "cell_type": "code",
   "execution_count": 13,
   "metadata": {},
   "outputs": [
    {
     "data": {
      "text/plain": [
       "<matplotlib.axes._subplots.AxesSubplot at 0x17c70087908>"
      ]
     },
     "execution_count": 13,
     "metadata": {},
     "output_type": "execute_result"
    },
    {
     "data": {
      "image/png": "[encoded data removed]",
      "text/plain": [
       "<Figure size 1152x576 with 2 Axes>"
      ]
     },
     "metadata": {
      "needs_background": "light"
     },
     "output_type": "display_data"
    }
   ],
   "source": [
    "fig, axs = plt.subplots(1, 2, sharey=True)\n",
    "df.plot(kind='scatter', x='date_num', y='Confirmed', ax=axs[0], figsize=(16, 8))\n",
    "df.plot(kind='scatter', x='state_num', y='Confirmed', ax=axs[1])\n",
    "#data.plot(kind='scatter', x='Date', y='sales', ax=axs[2])"
   ]
  },
  {
   "cell_type": "code",
   "execution_count": null,
   "metadata": {},
   "outputs": [],
   "source": []
  },
  {
   "cell_type": "code",
   "execution_count": 14,
   "metadata": {},
   "outputs": [],
   "source": [
    "X=np.array(df['date_num'].values)\n",
    "y=np.array(df['Confirmed'].values)\n",
    "X_train, X_test, y_train, y_test = train_test_split(X, y, random_state=0)"
   ]
  },
  {
   "cell_type": "code",
   "execution_count": 15,
   "metadata": {},
   "outputs": [
    {
     "data": {
      "text/plain": [
       "array([201, 145, 139, ...,  68,  95,  98], dtype=int64)"
      ]
     },
     "execution_count": 15,
     "metadata": {},
     "output_type": "execute_result"
    }
   ],
   "source": [
    "X_train"
   ]
  },
  {
   "cell_type": "code",
   "execution_count": 16,
   "metadata": {},
   "outputs": [
    {
     "data": {
      "text/plain": [
       "array([105898, 180643,    558, ...,    741,  17217,   9862], dtype=int64)"
      ]
     },
     "execution_count": 16,
     "metadata": {},
     "output_type": "execute_result"
    }
   ],
   "source": [
    "y_train"
   ]
  },
  {
   "cell_type": "code",
   "execution_count": 17,
   "metadata": {},
   "outputs": [
    {
     "data": {
      "text/plain": [
       "array([ 49, 227,  56, ..., 174,  67, 202], dtype=int64)"
      ]
     },
     "execution_count": 17,
     "metadata": {},
     "output_type": "execute_result"
    }
   ],
   "source": [
    "X_test"
   ]
  },
  {
   "cell_type": "code",
   "execution_count": 18,
   "metadata": {},
   "outputs": [
    {
     "data": {
      "text/plain": [
       "array([    1,  7683,   170, ..., 82087,     0, 10795], dtype=int64)"
      ]
     },
     "execution_count": 18,
     "metadata": {},
     "output_type": "execute_result"
    }
   ],
   "source": [
    "y_test"
   ]
  },
  {
   "cell_type": "code",
   "execution_count": 19,
   "metadata": {},
   "outputs": [
    {
     "data": {
      "text/plain": [
       "LinearRegression(copy_X=True, fit_intercept=True, n_jobs=None, normalize=False)"
      ]
     },
     "execution_count": 19,
     "metadata": {},
     "output_type": "execute_result"
    }
   ],
   "source": [
    "#from sklearn.linear_model import LinearRegression\n",
    "from sklearn.linear_model import LinearRegression\n",
    "from sklearn import linear_model\n",
    "reg=linear_model.LinearRegression()\n",
    "\n",
    "X_train=X_train.reshape(-1,1)\n",
    "X_test=X_test.reshape(-1,1)\n",
    "y_train=y_train.reshape(-1,1)\n",
    "y_test=y_test.reshape(-1,1)\n",
    "\n",
    "reg.fit(X_train, y_train)\n"
   ]
  },
  {
   "cell_type": "code",
   "execution_count": 20,
   "metadata": {},
   "outputs": [
    {
     "name": "stdout",
     "output_type": "stream",
     "text": [
      "[[170394.50379865]]\n"
     ]
    }
   ],
   "source": [
    "#predict a value\n",
    "predict=reg.predict([[244]])\n",
    "print(predict)"
   ]
  },
  {
   "cell_type": "code",
   "execution_count": 21,
   "metadata": {},
   "outputs": [
    {
     "name": "stdout",
     "output_type": "stream",
     "text": [
      "Coefficients: \n",
      " [[987.31968917]]\n"
     ]
    }
   ],
   "source": [
    "print('Coefficients: \\n', reg.coef_) #print the coefficients"
   ]
  },
  {
   "cell_type": "code",
   "execution_count": 22,
   "metadata": {},
   "outputs": [
    {
     "name": "stdout",
     "output_type": "stream",
     "text": [
      "intercept: \n",
      " [-70511.50036]\n"
     ]
    }
   ],
   "source": [
    "print('intercept: \\n', reg.intercept_) #print the intercept"
   ]
  },
  {
   "cell_type": "code",
   "execution_count": 23,
   "metadata": {},
   "outputs": [
    {
     "name": "stdout",
     "output_type": "stream",
     "text": [
      "0.1609257996523552\n"
     ]
    }
   ],
   "source": [
    "acc=reg.score(X_test,y_test) #find the accuracy\n",
    "print(acc)"
   ]
  },
  {
   "cell_type": "code",
   "execution_count": 24,
   "metadata": {},
   "outputs": [
    {
     "data": {
      "text/plain": [
       "170394.50379748"
      ]
     },
     "execution_count": 24,
     "metadata": {},
     "output_type": "execute_result"
    }
   ],
   "source": [
    "#y=mx+c\n",
    "(987.31968917*244)+(-70511.50036)"
   ]
  },
  {
   "cell_type": "code",
   "execution_count": null,
   "metadata": {},
   "outputs": [],
   "source": []
  },
  {
   "cell_type": "code",
   "execution_count": null,
   "metadata": {},
   "outputs": [],
   "source": []
  },
  {
   "cell_type": "code",
   "execution_count": null,
   "metadata": {},
   "outputs": [],
   "source": []
  },
  {
   "cell_type": "code",
   "execution_count": null,
   "metadata": {},
   "outputs": [],
   "source": []
  }
 ],
 "metadata": {
  "kernelspec": {
   "display_name": "Python 3",
   "language": "python",
   "name": "python3"
  },
  "language_info": {
   "codemirror_mode": {
    "name": "ipython",
    "version": 3
   },
   "file_extension": ".py",
   "mimetype": "text/x-python",
   "name": "python",
   "nbconvert_exporter": "python",
   "pygments_lexer": "ipython3",
   "version": "3.7.4"
  }
 },
 "nbformat": 4,
 "nbformat_minor": 2
}
